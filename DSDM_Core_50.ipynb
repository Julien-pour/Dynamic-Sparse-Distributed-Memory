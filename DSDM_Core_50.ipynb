{
  "nbformat": 4,
  "nbformat_minor": 0,
  "metadata": {
    "colab": {
      "name": "DSDM Core 50.ipynb",
      "provenance": [],
      "collapsed_sections": []
    },
    "kernelspec": {
      "name": "python3",
      "display_name": "Python 3"
    },
    "language_info": {
      "name": "python"
    },
    "accelerator": "GPU",
    "gpuClass": "standard"
  },
  "cells": [
    {
      "cell_type": "code",
      "source": [
        "import torch \n",
        "import torchvision\n",
        "from torchvision import datasets,transforms\n",
        "from torch.utils.data import Dataset,DataLoader\n",
        "from torch.autograd import Variable\n",
        "from sklearn.neighbors import LocalOutlierFactor\n",
        "\n",
        "import torch.nn as nn\n",
        "import torch.nn.functional as F\n",
        "import math\n",
        "from tqdm import tqdm\n",
        "import matplotlib\n",
        "import matplotlib.pyplot as plt\n",
        "import numpy\n",
        "import numpy as np\n",
        "import random\n",
        "\n",
        "device = torch.device(\"cuda\" if torch.cuda.is_available() else \"cpu\")\n",
        "def fix_seed():\n",
        "    seed = 42\n",
        "    print(\"[ Using Seed : \", seed, \" ]\")\n",
        "\n",
        "    torch.manual_seed(seed)\n",
        "    torch.cuda.manual_seed_all(seed)\n",
        "    torch.cuda.manual_seed(seed)\n",
        "    numpy.random.seed(seed)\n",
        "    random.seed(seed)\n",
        "    torch.backends.cudnn.deterministic = True\n",
        "    torch.backends.cudnn.benchmark = False\n",
        "    \n",
        "def load_preencoded_data(model_name, dataset_name,img_size,bs=64,shuffle=False,file_path=None):\n",
        "    if file_path!= None:\n",
        "      loaded = torch.load(file_path)\n",
        "    else:\n",
        "      loaded = torch.load('./data/'+dataset_name+'_'+model_name+'_'+str(img_size)+'.pt')\n",
        "    trainset = torch.utils.data.TensorDataset(loaded['traindata'], loaded['trainlabel'])\n",
        "    testset = torch.utils.data.TensorDataset(loaded['testdata'], loaded['label_test'])\n",
        "    trainloader = torch.utils.data.DataLoader(trainset, batch_size=bs,\n",
        "                                          shuffle=shuffle, num_workers=0)\n",
        "    testloader = torch.utils.data.DataLoader(testset, batch_size=bs,\n",
        "                                         shuffle=shuffle, num_workers=0)\n",
        "    return trainset, testset, trainloader, testloader\n",
        "\n",
        "from torch.utils.data import Dataset\n",
        "\n",
        "class SubDataset(Dataset):\n",
        "    '''To sub-sample a dataset, taking only those samples with label in [sub_labels].\n",
        "    After this selection of samples has been made, it is possible to transform the target-labels,\n",
        "    which can be useful when doing continual learning with fixed number of output units.'''\n",
        "\n",
        "    def __init__(self, original_dataset, sub_labels, target_transform=None,transform=None):\n",
        "        super().__init__()\n",
        "        self.dataset = original_dataset\n",
        "        self.sub_indeces = []\n",
        "        for index in range(len(self.dataset)):\n",
        "            if hasattr(original_dataset, \"targets\"):\n",
        "                if self.dataset.target_transform is None:\n",
        "                    label = self.dataset.targets[index]\n",
        "                else:\n",
        "                    label = self.dataset.target_transform(self.dataset.targets[index])\n",
        "            else:\n",
        "                label = self.dataset[index][1]\n",
        "            if label in sub_labels:\n",
        "                self.sub_indeces.append(index)\n",
        "        self.target_transform = target_transform\n",
        "        self.transform=transform\n",
        "\n",
        "    def __len__(self):\n",
        "        return len(self.sub_indeces)\n",
        "\n",
        "    def __getitem__(self, index):\n",
        "        sample = self.dataset[self.sub_indeces[index]]\n",
        "        if self.transform:\n",
        "            sample=self.transform(sample)\n",
        "        if self.target_transform:\n",
        "            target = self.target_transform(sample[1])\n",
        "            sample = (sample[0], target)\n",
        "        return sample\n",
        "    \n",
        "model_name = \"vits8\"\n",
        "img_size=224\n",
        "\n",
        "def compute_distances_gpu(X,Y):\n",
        "\n",
        "\n",
        "    dists = torch.sqrt(-2 * torch.mm(X,Y.T) +\n",
        "                    torch.sum(torch.pow(Y, 2),dim=1) +\n",
        "                    torch.sum(torch.pow(X, 2),dim=1).view(-1,1))\n",
        "\n",
        "    return dists"
      ],
      "metadata": {
        "id": "txy0zDE7Zk4K"
      },
      "execution_count": null,
      "outputs": []
    },
    {
      "cell_type": "code",
      "source": [
        "# last one\n",
        "class SONN(nn.Module):\n",
        "    def __init__(self,Time_period, n_mini_batch,n_class=10,n_feat=384):\n",
        "        super(SONN, self).__init__()\n",
        "        self.n_feat=n_feat\n",
        "        self.n_class=n_class\n",
        "        self.Time_period = Time_period \n",
        "        self.ema = 2/(Time_period+1)\n",
        "        self.n_mini_batch = n_mini_batch\n",
        "        self.count=0\n",
        "        self.T=1\n",
        "        self.Address=torch.zeros(1,n_feat).to(device)\n",
        "        self.M=torch.zeros(1,self.n_class)\n",
        "        self.p_norm=\"fro\"\n",
        "        self.Error=torch.zeros(len(self.Address)).to(device)\n",
        "        self.global_error=0\n",
        "        self.Time_period_Temperature = self.ema\n",
        "        self.ema_Temperature=(2/(self.Time_period_Temperature+1))\n",
        "        self.memory_global_error=torch.zeros(1)\n",
        "        self.memory_min_distance=torch.zeros(1)\n",
        "        self.memory_count_address=torch.zeros(1)\n",
        "        self.dataset_name=\"MNIST\"\n",
        "        \n",
        "        self.acc_after_each_task=[]\n",
        "        self.acc_aft_all_task=[]\n",
        "        self.stock_feat=torch.tensor([]).to(device)\n",
        "        self.forgetting=[]\n",
        "        self.N_prune=5000\n",
        "        self.prune_mode=\"balance\"#naive,balance\n",
        "        self.n_neighbors=20\n",
        "        self.contamination=\"auto\"\n",
        "        self.pruning=False\n",
        "        \n",
        "        self.cum_acc_activ=False\n",
        "        \n",
        "        self.batch_test=True\n",
        "\n",
        "        \n",
        "        self.reset()\n",
        "        \n",
        "    def apply_param(self,T,pruning,N_prune,n_neighbors,Time_period_Temperature):\n",
        "        self.T=T\n",
        "        self.pruning=True\n",
        "        self.N_prune=N_prune\n",
        "        self.n_neighbors=n_neighbors\n",
        "        self.Time_period_Temperature=Time_period_Temperature\n",
        "        \n",
        "    def reset(self):\n",
        "        self.ema = 2/(self.Time_period+1)\n",
        "        self.ema_Temperature=(2/(self.Time_period_Temperature+1))\n",
        "        self.count=0\n",
        "        self.Address=torch.zeros(1,self.n_feat).to(device)\n",
        "        self.M=torch.zeros(1,self.n_class).to(device)\n",
        "        self.Error=torch.zeros(len(self.Address)).to(device)\n",
        "        self.global_error=0\n",
        "        self.memory_global_error=torch.zeros(1)\n",
        "        self.memory_min_distance=torch.zeros(1)\n",
        "        self.memory_count_address=torch.zeros(1)\n",
        "        \n",
        "    def forward(self,inputs):\n",
        "        with torch.no_grad():\n",
        "            out = inputs\n",
        "#             out = self.encoder(inputs.to(device))\n",
        "            pred=torch.tensor([]).to(device)\n",
        "            if self.batch_test:\n",
        "                distance=compute_distances_gpu(inputs,self.Address)\n",
        "                soft_norm = F.softmin(distance/self.T,dim=-1)\n",
        "                pred = torch.matmul(soft_norm, self.M)\n",
        "            else:\n",
        "                for idx_x in range(len(out)):\n",
        "                    x=out[idx_x]\n",
        "                    distance=x-self.Address\n",
        "                    norm=torch.norm(distance, p=self.p_norm, dim=-1)\n",
        "                    # softmin vs argmin\n",
        "                    soft_norm = F.softmin(norm/self.T,dim=-1)\n",
        "                    soft_pred = torch.matmul(soft_norm, self.M.to(device)).view(-1)\n",
        "                    pred=torch.cat((pred,soft_pred.view(1,-1)),0)\n",
        "\n",
        "        return pred   \n",
        "    \n",
        "    def prune(self):\n",
        "        N_pruning=self.N_prune\n",
        "        n_class = self.M.size(1)\n",
        "        if len(self.Address)>N_pruning:\n",
        "            clf = LocalOutlierFactor(n_neighbors=min(len(self.Address),self.n_neighbors), contamination=self.contamination)\n",
        "            A=self.Address\n",
        "            M=self.M\n",
        "            y_pred = clf.fit_predict(A.cpu())#>0 inliner\n",
        "            X_scores = clf.negative_outlier_factor_\n",
        "            x_scor=torch.tensor(X_scores)\n",
        "            if self.prune_mode==\"naive\":\n",
        "                if len(A)>N_pruning:\n",
        "                    prun_N_addr=len(A)-N_pruning\n",
        "                    val,ind=torch.topk(x_scor,prun_N_addr)\n",
        "                    idx_remove=[True]*len(A)\n",
        "                    for i in ind:\n",
        "                        idx_remove[i] = False\n",
        "                    self.M=self.M[idx_remove]\n",
        "                    self.Address=self.Address[idx_remove]\n",
        "\n",
        "            if self.prune_mode==\"balance\":\n",
        "                prun_N_addr=len(A)-N_pruning\n",
        "                mean_addr=N_pruning//n_class\n",
        "                val, ind = torch.sort(x_scor, descending=True)\n",
        "\n",
        "                count=prun_N_addr\n",
        "                idx_remove=[True]*len(A)\n",
        "                idx=0\n",
        "                arg_m=torch.argmax(M,axis=1)\n",
        "                N_remaining=torch.bincount(arg_m)\n",
        "                while count!=0:\n",
        "                    \n",
        "                    idx+=1\n",
        "                    indice=ind[idx]\n",
        "                    if N_remaining[arg_m[indice]]>(N_pruning//n_class):\n",
        "                        N_remaining[arg_m[indice]]-=1\n",
        "                        idx_remove[ind[idx]] = False\n",
        "\n",
        "                        count-=1\n",
        "\n",
        "                self.M=self.M[idx_remove]\n",
        "                self.Address=self.Address[idx_remove]\n",
        "                \n",
        "#             if self.prune_mode == 'k_means':\n",
        "#                 prun_N_addr=len(A)-N_pruning\n",
        "#                 mean_addr=N_pruning//n_class\n",
        "\n",
        "#                 count=prun_N_addr\n",
        "#                 idx_remove=[True]*len(A)\n",
        "#                 idx=0\n",
        "#                 arg_m=torch.argmax(M,axis=1)\n",
        "#                 N_remaining=torch.bincount(arg_m)\n",
        "                \n",
        "#                 kmeans = sklearn.cluster.KMeans(n_clusters=, ).fit(x_train)\n",
        "#                 centroids = kmeans.cluster_centers_\n",
        "        \n",
        "    def test(self,testloader):\n",
        "        total=0\n",
        "        correct=0\n",
        "        for batch_idx, (inputs, targets) in enumerate(testloader):\n",
        "            targets=targets.type(torch.LongTensor).to(device)\n",
        "            inputs=inputs.to(device)\n",
        "            outputs = self.forward(inputs)\n",
        "            _, predicted = torch.max(outputs,1)\n",
        "            total += targets.size(0)\n",
        "            correct += (predicted == targets).sum().item()\n",
        "        accuracy=correct/total*100\n",
        "        print(\" test accuracy {:.3f} %,  {:.3f} / {:.3f} \".format(accuracy, correct,total))\n",
        "        return accuracy\n",
        "    \n",
        "    def test_idx(self,test_dataset_10_way_split,idx_test):\n",
        "        with torch.no_grad():\n",
        "            total=0\n",
        "            correct=0\n",
        "\n",
        "            for idx in idx_test:\n",
        "                curr_correct=0\n",
        "                curr_total=0\n",
        "                for batch_idx, (inputs, targets) in enumerate(test_dataset_10_way_split[idx]):\n",
        "                    inputs=inputs.to(device)\n",
        "                    targets=targets.type(torch.LongTensor).to(device)\n",
        "                    outputs = self.forward(inputs)\n",
        "                    _, predicted = torch.max(outputs,1)\n",
        "                    total += targets.size(0)\n",
        "                    corr=(predicted == targets).sum().item()\n",
        "                    curr_correct +=corr\n",
        "                    correct += corr\n",
        "                    curr_total+=targets.size(0)\n",
        "            accuracy=correct/total*100\n",
        "#         print(\" test accuracy {:.3f} %,  {:.3f} / {:.3f} \".format(accuracy, correct,total))\n",
        "        return accuracy,curr_correct/curr_total*100\n",
        "    \n",
        "    def train__test_n_way_split(self, train_dataset_10_way_split, test_dataset_10_way_split,coef_global_error=1,ema_global_error=None, plot=True, save_feat=False): # n equal len train_dataset_10_way_split\n",
        "        flag=False\n",
        "        acc_test=torch.zeros(len(train_dataset_10_way_split))\n",
        "        acc_test_after_each_task_softmin = torch.zeros(len(train_dataset_10_way_split))\n",
        "        self.memory_min_distance=torch.zeros(1)\n",
        "        idx_seen=[]\n",
        "        self.cum_acc=[]\n",
        "        with torch.no_grad():\n",
        "            for idx_loader in range(len(train_dataset_10_way_split)):\n",
        "                idx_seen.append(idx_loader)\n",
        "                #train loop\n",
        "                for batch_idx, (inputs, targets) in enumerate(train_dataset_10_way_split[idx_loader]):\n",
        "                    inputs=inputs.to(device)\n",
        "                    targets=targets.type(torch.LongTensor).to(device)\n",
        "                    if batch_idx==self.n_mini_batch:\n",
        "                        break\n",
        "                    if save_feat:\n",
        "                        self.stock_feat=torch.cat((self.stock_feat,inputs))\n",
        "                    for idx_x in range(len(inputs)):\n",
        "                        out=inputs#.to(device)\n",
        "                        x=out[idx_x]\n",
        "                        self.count+=1\n",
        "                        distance=x-self.Address\n",
        "                        norm=torch.norm(distance, p=self.p_norm, dim=-1)\n",
        "                        soft_norm=norm\n",
        "\n",
        "                        max_value, idx_max=torch.min(norm,0)\n",
        "\n",
        "                        self.global_error+= self.ema_Temperature*(max_value-self.global_error)\n",
        "#                         self.memory_global_error=torch.cat((self.memory_global_error,torch.tensor([self.global_error])))\n",
        "#                         smoth_min_dist= self.memory_min_distance[-1] + (max_value-self.memory_min_distance[-1])*2/(1+20)\n",
        "#                         self.memory_min_distance=torch.cat((self.memory_min_distance,torch.tensor([smoth_min_dist])))\n",
        "\n",
        "    #                     max_value, idx_max=torch.max(out,0)\n",
        "                        if abs(norm[idx_max])>=self.global_error*coef_global_error:\n",
        "                            # create a new address\n",
        "                            self.Address=torch.cat((self.Address,x.view(1,-1)))\n",
        "#                             self.Error=torch.cat((self.Error,torch.ones(1).to(device)))\n",
        "                            targets_one_hot=F.one_hot(targets[idx_x], num_classes=self.n_class).float()\n",
        "                            self.M=torch.cat((self.M,targets_one_hot.view(1,-1)))\n",
        "                        else: #SOM like\n",
        "                            delta_address = distance\n",
        "                            soft_norm = F.softmin(norm/self.T,dim=-1)\n",
        "                            \n",
        "\n",
        "                            self.Address = self.Address + self.ema * torch.mul(soft_norm.view(-1,1),delta_address)\n",
        "                            targets_one_hot=F.one_hot(targets[idx_x], num_classes=self.n_class).float()\n",
        "\n",
        "                            self.M += self.ema * torch.mul(soft_norm.view(-1,1),(targets_one_hot-self.M))   #(self.M[idx_max]-targets_one_hot)\n",
        "#                             self.Error[idx_max] += self.ema*(norm[idx_max] - self.Error[idx_max])\n",
        "#                             self.memory_count_address=torch.cat((self.memory_count_address,torch.tensor([self.M.size(0)])))\n",
        "                if self.pruning:\n",
        "#                     print(len(self.Address))\n",
        "                    self.prune()\n",
        "#                     print(len(self.Address))\n",
        "                if self.cum_acc_activ:\n",
        "                    acc,last_acc = self.test_idx(test_dataset_10_way_split,idx_seen)\n",
        "                    self.cum_acc.append(acc)\n",
        "                    acc_test_after_each_task_softmin[idx_loader] = last_acc\n",
        "\n",
        "#                 if self.batch_test:\n",
        "#                     count_input=0\n",
        "#                     correct=0\n",
        "#                     correct_softmin=0\n",
        "#                     if False:\n",
        "#                         for batch_idx, (inputs, targets) in enumerate(test_dataset_10_way_split[idx_loader]):\n",
        "\n",
        "#                             out=inputs.to(device)\n",
        "#                             targets=targets.type(torch.LongTensor)\n",
        "#                             for i in range(len(out)):\n",
        "#                                 count_input += 1\n",
        "#                                 x=out[i]\n",
        "#                                 distance=x-self.Address\n",
        "#                                 norm=torch.norm(distance, p=self.p_norm, dim=-1)\n",
        "#                                 # softmin vs argmin\n",
        "#                                 soft_norm = F.softmin(norm/self.T,dim=-1)\n",
        "#                                 soft_pred = torch.matmul(soft_norm, self.M.to(device)).view(-1)\n",
        "#                                 arg_soft_pred = torch.argmax(soft_pred)\n",
        "#                                 #argmin\n",
        "#                                 idx=torch.argmin(norm)\n",
        "#                                 pred = torch.argmax(self.M[idx])\n",
        "#                                 if pred==targets[i]:\n",
        "#                                     correct += 1\n",
        "#                                 if arg_soft_pred==targets[i]:\n",
        "#                                     correct_softmin += 1\n",
        "#                         acc_test[idx_loader] = correct/count_input\n",
        "#                         acc_test_after_each_task_softmin[idx_loader] = correct_softmin/count_input\n",
        "#             print(acc_test_after_each_task_softmin)\n",
        "            \n",
        "#             acc_test_just_after_learn_1_task=acc_test*100\n",
        "            \n",
        "            self.acc_after_each_task=acc_test_after_each_task_softmin\n",
        "            acc_test_after_each_task_softmin=acc_test_after_each_task_softmin\n",
        "            \n",
        "            acc_test_after_all_task_softmin=torch.zeros(len(train_dataset_10_way_split))\n",
        "            acc_test=torch.zeros(len(train_dataset_10_way_split))\n",
        "#             if self.pruning:\n",
        "#                 self.prune()\n",
        "            # test after learn all task\n",
        "            \n",
        "            for idx_loader in range(len(test_dataset_10_way_split)):#len(train_stl_10_way_split)\n",
        "                count_input=0\n",
        "                correct=0\n",
        "                correct_softmin=0\n",
        "                if self.batch_test:\n",
        "                    acc,last_acc = self.test_idx(test_dataset_10_way_split,[idx_loader])\n",
        "                    acc_test[idx_loader]=0 #pas calculer\n",
        "                    acc_test_after_all_task_softmin[idx_loader]=last_acc\n",
        "                else:\n",
        "                    for batch_idx, (inputs, targets) in enumerate(test_dataset_10_way_split[idx_loader]):\n",
        "                        out=inputs.to(device)\n",
        "                        targets=targets.type(torch.LongTensor)\n",
        "                        for i in range(len(out)):\n",
        "                            count_input += 1\n",
        "                            x=out[i]\n",
        "                            distance=x-self.Address\n",
        "                            norm=torch.norm(distance, p=self.p_norm, dim=-1)\n",
        "                            #softmin\n",
        "                            soft_norm=F.softmin(norm/self.T,dim=-1)\n",
        "                            soft_pred = torch.matmul(soft_norm, self.M.to(device)).view(-1)\n",
        "                            arg_soft_pred = torch.argmax(soft_pred)\n",
        "                            #argmin\n",
        "                            idx=torch.argmin(norm)\n",
        "                            pred = torch.argmax(self.M[idx])\n",
        "                            if pred==targets[i]:\n",
        "                                correct += 1\n",
        "                            if arg_soft_pred==targets[i]:\n",
        "                                correct_softmin += 1\n",
        "                    acc_test[idx_loader]=correct/count_input*100\n",
        "                    acc_test_after_all_task_softmin[idx_loader]=correct_softmin/count_input*100\n",
        "                \n",
        "\n",
        "\n",
        "                self.acc_aft_all_task=acc_test_after_all_task_softmin\n",
        "#                 print(acc_test[idx_loader])\n",
        "#             print(acc_test)\n",
        "            if plot :#and acc_test.mean().item()>80:\n",
        "                plt.figure(figsize=(15,10))\n",
        "                plt.plot(acc_test)\n",
        "                plt.plot(acc_test_just_after_learn_1_task)\n",
        "                plt.plot(acc_test_after_all_task_softmin)\n",
        "#                 plt.plot(acc_test_after_each_task_softmin)\n",
        "                plt.legend([\"after learn all task\",\"after learn each task\",\"after learn all task with softmin\"])\n",
        "                plt.title(\"accuracy on all task = {:.2f} %\".format(acc_test.mean().item())+\"same accuracy with softmin (with T= {:.2f}) =\".format(self.T)+\"{:.3f}\".format(acc_test_after_all_task_softmin.mean().item())+\" on 10 way split cifar 10,\\n Time_period = \"+ str(Time_period)+ \" number of data per class = \"+str(self.n_mini_batch*bs)+\" address use \"+str(self.M.size(0)))  \n",
        "                plt.ylabel(\"test accuracy %\")\n",
        "                plt.xlabel(\"task 0 to task 9\")\n",
        "                for i in range(0,self.n_class):\n",
        "                    plt.vlines(i,min(acc_test),100,colors='k', linestyles='dotted', label='end task 0')\n",
        "                plt.show()\n",
        "                plt.figure(figsize=(15,10))\n",
        "                n_taskss=(np.linspace(0,len(test_dataset_10_way_split),len(self.memory_global_error)))\n",
        "                plt.plot(n_taskss,self.memory_global_error)\n",
        "                n_taskss=(np.linspace(0,len(test_dataset_10_way_split),len(self.memory_min_distance)))\n",
        "                plt.plot(n_taskss,self.memory_min_distance, alpha=0.3)\n",
        "                n_taskss=(np.linspace(0,len(test_dataset_10_way_split),len(self.memory_count_address)))\n",
        "                plt.plot(n_taskss,self.memory_count_address/max(self.memory_count_address)*100)\n",
        "                for i in range(1,len(test_dataset_10_way_split)+1):\n",
        "                    plt.vlines(i,0,70,colors='k', linestyles='dotted', label='end task 0')\n",
        "                plt.show()\n",
        "            return acc_test_after_each_task_softmin, acc_test_after_all_task_softmin\n",
        "        \n",
        "    def grid_search_spread_factor(self, Time_period, n_mini_batch, train_dataset_10_way_split, test_dataset_10_way_split,N_try=5,ema_global_error=\"same\",coef_global_error=1,plot=True,random_ordering=True):\n",
        "        flag=False\n",
        "        acc_test=torch.zeros(N_try,len(train_dataset_10_way_split))\n",
        "        accuracy_std_test=torch.zeros(len(train_dataset_10_way_split))\n",
        "        accuracy_mean_test=torch.zeros(len(train_dataset_10_way_split))\n",
        "        \n",
        "        cum_acc=torch.zeros(N_try,len(train_dataset_10_way_split))\n",
        "        \n",
        "        acc_test_softmin=torch.zeros(N_try,len(train_dataset_10_way_split))\n",
        "        accuracy_mean_test_softmin=torch.zeros(len(train_dataset_10_way_split))\n",
        "        accuracy_std_test_softmin=torch.zeros(len(train_dataset_10_way_split))\n",
        "        N_address_use=torch.zeros(N_try)\n",
        "        self.forgetting=[]\n",
        "        \n",
        "        self.n_mini_batch=n_mini_batch\n",
        "        self.Time_period = Time_period \n",
        "        self.ema = 2/(Time_period+1)\n",
        "        for idx_try in tqdm(range(N_try)):\n",
        "            self.reset()\n",
        "            Acc_test, Acc_test_softmin = self.train__test_n_way_split(train_dataset_10_way_split, test_dataset_10_way_split,ema_global_error=ema_global_error,plot=False,coef_global_error=coef_global_error)\n",
        "            if self.cum_acc_activ:\n",
        "                cum_acc[idx_try]=torch.tensor(self.cum_acc)\n",
        "            self.forgetting.append((self.acc_after_each_task*100-self.acc_aft_all_task).mean())\n",
        "            acc_test[idx_try]=Acc_test\n",
        "            acc_test_softmin[idx_try]=Acc_test_softmin\n",
        "            N_address_use[idx_try] = self.M.size(0)\n",
        "            #random ordering\n",
        "            if random_ordering:\n",
        "                dataset_shuffle = list(zip(train_dataset_10_way_split, test_dataset_10_way_split))\n",
        "                random.shuffle(dataset_shuffle)\n",
        "                train_dataset_10_way_split, test_dataset_10_way_split = zip(*dataset_shuffle)\n",
        "\n",
        "        accuracy_mean_test=acc_test.mean(0)\n",
        "        accuracy_std_test=acc_test.std(0)\n",
        "        accuracy_mean_test_softmin = acc_test_softmin.mean(0)\n",
        "        acc_soft_mean=acc_test_softmin.mean(1)\n",
        "        \n",
        "        accuracy_std_test_softmin = acc_test_softmin.std(0)\n",
        "        print(\"forgetting softmin inference = {:.1f} % ± {:.1f}\".format(np.mean(self.forgetting),np.std(self.forgetting)))\n",
        "\n",
        "#         plt.plot(accuracy_mean_test_softmin)\n",
        "#         plt.fill_between(np.linspace(0,len(accuracy_mean_test_softmin)-1,len(accuracy_mean_test_softmin)), accuracy_mean_test_softmin-accuracy_std_test_softmin, accuracy_mean_test_softmin+accuracy_std_test_softmin, alpha = 0.5)\n",
        "        if plot:\n",
        "            plt.errorbar(np.linspace(1,len(accuracy_mean_test_softmin),len(accuracy_mean_test_softmin)),accuracy_mean_test_softmin,accuracy_std_test_softmin,linestyle='None', fmt='o',capsize = 5)\n",
        "    #         plt.plot(accuracy_mean_test)\n",
        "    #         plt.fill_between(np.linspace(0,len(accuracy_mean_test)-1,len(accuracy_mean_test)), accuracy_mean_test-accuracy_std_test, accuracy_mean_test+accuracy_std_test, alpha = 0.5)\n",
        "            print(str(len(train_dataset_10_way_split))+\"-way split, MNIST test accuracy on all task = {:.1f} % ± {:.1f}, mean Address use =  {:.1f} \".format(acc_soft_mean.mean().item(), acc_soft_mean.std().item(),N_address_use.mean()))#\n",
        "            print([\"accuracy softmin T_softmin = {:.1f} \".format(self.T)])\n",
        "            plt.xlabel(\"task 1 to task \"+str(len(train_dataset_10_way_split)))\n",
        "            plt.ylabel(\"Test Accuracy\")\n",
        "            plt.ylim(bottom=40)\n",
        "            plt.savefig(\"DSDM MNIST.pdf\")\n",
        "\n",
        "            plt.show()\n",
        "#         y2=forgetting\n",
        "#         y3=N_address_use\n",
        "#         label_x  = \"spread factor\"\n",
        "#         label_y1 = \"accuracy on \"+str(len(train_dataset_10_way_split))+ \" tasks\"\n",
        "#         label_y2 = \"forgetting\"\n",
        "#         label_y3 = \"number of neurons used\" \n",
        "#         title=(\"10 way split cifar 10, Time_period = \"+ str(Time_period)+ \" number of data per class = \"+str(self.n_mini_batch*bs))\n",
        "        return acc_soft_mean,N_address_use.mean(),acc_test,cum_acc\n",
        "\n"
      ],
      "metadata": {
        "id": "yqM_W0MmZsA_"
      },
      "execution_count": null,
      "outputs": []
    },
    {
      "cell_type": "code",
      "source": [
        ""
      ],
      "metadata": {
        "id": "Ci367CreaXOR",
        "colab": {
          "base_uri": "https://localhost:8080/"
        },
        "outputId": "0244d47d-ea6d-4695-eb2f-c3db7c7605b6"
      },
      "execution_count": null,
      "outputs": [
        {
          "output_type": "stream",
          "name": "stdout",
          "text": [
            "Mounted at /content/drive\n"
          ]
        }
      ]
    },
    {
      "cell_type": "code",
      "source": [
        "img_size=224\n",
        "model_name=\"resnet18\"\n",
        "dataset_name=\"Core50\""
      ],
      "metadata": {
        "id": "hAOVc2LfGG53"
      },
      "execution_count": null,
      "outputs": []
    },
    {
      "cell_type": "code",
      "source": [
        "!pip install gdown"
      ],
      "metadata": {
        "id": "3svF-um-KyBF"
      },
      "execution_count": null,
      "outputs": []
    },
    {
      "cell_type": "code",
      "source": [
        "!gdown --id 1Yo7VJ93VGWQo070QHKB_6mG76iNDrVvT"
      ],
      "metadata": {
        "id": "6ac8JAb7KtPv"
      },
      "execution_count": null,
      "outputs": []
    },
    {
      "cell_type": "code",
      "source": [
        "# enter YOUR file path\n",
        "\n",
        "#  from google.colab import drive\n",
        "#  drive.mount('/content/drive')\n",
        "file_path= \"/content/Core50_resnet18_224.pt\" #\"/content/drive/MyDrive/DSDM/Core50_resnet18_224.pt\" \n",
        "\n",
        "trainset, testset, trainloader, testloader=load_preencoded_data(model_name, dataset_name,img_size,file_path=file_path)\n",
        "\n",
        "bs=50\n",
        "\n",
        "train_set, val_set = torch.utils.data.random_split(trainset, [25000, len(trainset)-25000])\n",
        "\n",
        "\n",
        "train_cifar100_100_way_split=[]\n",
        "val_cifar100_100_way_split=[]\n",
        "\n",
        "test_cifar100_100_way_split=[]\n",
        "i=0\n",
        "train_cifar100_100_way_split.append(torch.utils.data.DataLoader(SubDataset(train_set,[i,i+1,i+2,i+3,i+4,i+5,i+6,i+7,i+8,i+9]), batch_size=bs,\n",
        "                                      shuffle=True, num_workers=0))\n",
        "val_cifar100_100_way_split.append(torch.utils.data.DataLoader(SubDataset(val_set,[i,i+1,i+2,i+3,i+4,i+5,i+6,i+7,i+8,i+9]), batch_size=bs,\n",
        "                                      shuffle=False, num_workers=0))\n",
        "test_cifar100_100_way_split.append(torch.utils.data.DataLoader(SubDataset(testset,[i,i+1,i+2,i+3,i+4,i+5,i+6,i+7,i+8,i+9]), batch_size=bs,\n",
        "                                      shuffle=False, num_workers=0))\n",
        "for i in range(10,50,5):\n",
        "    train_cifar100_100_way_split.append(torch.utils.data.DataLoader(SubDataset(train_set,[i,i+1,i+2,i+3,i+4]), batch_size=bs,\n",
        "                                          shuffle=True, num_workers=0))\n",
        "    val_cifar100_100_way_split.append(torch.utils.data.DataLoader(SubDataset(val_set,[i,i+1,i+2,i+3,i+4]), batch_size=bs,\n",
        "                                          shuffle=False, num_workers=0))\n",
        "    test_cifar100_100_way_split.append(torch.utils.data.DataLoader(SubDataset(testset,[i,i+1,i+2,i+3,i+4]), batch_size=bs,\n",
        "                                          shuffle=False, num_workers=0))"
      ],
      "metadata": {
        "id": "kKaxPP9LZbfZ"
      },
      "execution_count": null,
      "outputs": []
    },
    {
      "cell_type": "code",
      "execution_count": null,
      "metadata": {
        "colab": {
          "base_uri": "https://localhost:8080/",
          "height": 1000
        },
        "id": "i6SYEsfrZDql",
        "outputId": "e001e461-3bec-41cd-b053-8e9c7a8ec1e4"
      },
      "outputs": [
        {
          "output_type": "stream",
          "name": "stderr",
          "text": [
            "100%|██████████| 5/5 [01:27<00:00, 17.53s/it]\n"
          ]
        },
        {
          "output_type": "stream",
          "name": "stdout",
          "text": [
            "forgetting softmin inference = 4231.6 % ± 332.6\n",
            "9-way split, MNIST test accuracy on all task = 42.7 % ± 2.1, mean Address use =  1000.0 \n",
            "['accuracy softmin T_softmin = 2.3 ']\n"
          ]
        },
        {
          "output_type": "display_data",
          "data": {
            "text/plain": [
              "<Figure size 432x288 with 1 Axes>"
            ],
            "image/png": "[encoded data removed]"
          },
          "metadata": {
            "needs_background": "light"
          }
        },
        {
          "output_type": "stream",
          "name": "stdout",
          "text": [
            "tensor(43.2465)\n",
            "tensor(42.6616) 1000\n"
          ]
        },
        {
          "output_type": "stream",
          "name": "stderr",
          "text": [
            "100%|██████████| 5/5 [01:36<00:00, 19.34s/it]"
          ]
        },
        {
          "output_type": "stream",
          "name": "stdout",
          "text": [
            "forgetting softmin inference = 5006.4 % ± 318.3\n",
            "9-way split, MNIST test accuracy on all task = 50.0 % ± 1.2, mean Address use =  2000.0 \n",
            "['accuracy softmin T_softmin = 2.3 ']\n"
          ]
        },
        {
          "output_type": "stream",
          "name": "stderr",
          "text": [
            "\n"
          ]
        },
        {
          "output_type": "display_data",
          "data": {
            "text/plain": [
              "<Figure size 432x288 with 1 Axes>"
            ],
            "image/png": "[encoded data removed]"
          },
          "metadata": {
            "needs_background": "light"
          }
        },
        {
          "output_type": "stream",
          "name": "stdout",
          "text": [
            "tensor(54.5471)\n",
            "tensor(50.0382) 2000\n"
          ]
        },
        {
          "output_type": "stream",
          "name": "stderr",
          "text": [
            "100%|██████████| 5/5 [02:23<00:00, 28.61s/it]"
          ]
        },
        {
          "output_type": "stream",
          "name": "stdout",
          "text": [
            "forgetting softmin inference = 6455.4 % ± 106.7\n",
            "9-way split, MNIST test accuracy on all task = 56.2 % ± 0.9, mean Address use =  5000.0 \n",
            "['accuracy softmin T_softmin = 2.3 ']\n"
          ]
        },
        {
          "output_type": "stream",
          "name": "stderr",
          "text": [
            "\n"
          ]
        },
        {
          "output_type": "display_data",
          "data": {
            "text/plain": [
              "<Figure size 432x288 with 1 Axes>"
            ],
            "image/png": "[encoded data removed]"
          },
          "metadata": {
            "needs_background": "light"
          }
        },
        {
          "output_type": "stream",
          "name": "stdout",
          "text": [
            "tensor(66.6657)\n",
            "tensor(56.1940) 5000\n"
          ]
        },
        {
          "output_type": "stream",
          "name": "stderr",
          "text": [
            "100%|██████████| 5/5 [02:28<00:00, 29.79s/it]"
          ]
        },
        {
          "output_type": "stream",
          "name": "stdout",
          "text": [
            "forgetting softmin inference = 7149.8 % ± 154.6\n",
            "9-way split, MNIST test accuracy on all task = 66.9 % ± 0.8, mean Address use =  10000.0 \n",
            "['accuracy softmin T_softmin = 2.3 ']\n"
          ]
        },
        {
          "output_type": "stream",
          "name": "stderr",
          "text": [
            "\n"
          ]
        },
        {
          "output_type": "display_data",
          "data": {
            "text/plain": [
              "<Figure size 432x288 with 1 Axes>"
            ],
            "image/png": "[encoded data removed]"
          },
          "metadata": {
            "needs_background": "light"
          }
        },
        {
          "output_type": "stream",
          "name": "stdout",
          "text": [
            "tensor(69.2211)\n",
            "tensor(66.8754) 10000\n"
          ]
        }
      ],
      "source": [
        "nprune=[1000,2000,5000,10000]\n",
        "for i in nprune:\n",
        "    N_try=5\n",
        "#     n_mini_batch = trial.suggest_int(\"n_mini_batch\", 30, 50)\n",
        "    n_mini_batch=55\n",
        "\n",
        "    alpha = 1#trial.suggest_uniform(\"alpha\", 1.,1.2)\n",
        "    Time_period = 500\n",
        "    Time_period_temperature = 150\n",
        "    sonn=SONN(Time_period ,n_mini_batch,50,n_feat=512)\n",
        "    sonn.n_neighbors=1000\n",
        "    sonn.contamination=\"auto\"#trial.suggest_uniform(\"contamination\", 0.1,0.5)\n",
        "    sonn.p_norm=\"fro\"\n",
        "    sonn.T=2.3\n",
        "    sonn.pruning=True\n",
        "    sonn.N_prune=i\n",
        "    sonn.cum_acc_activ=True\n",
        "#     sonn.ema_content=2/(1+trial.suggest_int(\"ema content\", 5, 500))\n",
        "    sonn.Time_period_Temperature = Time_period_temperature\n",
        "    accuracy_c100_100w,N_address_use_c100_100w,acc_test_softmin,cum_sum = sonn.grid_search_spread_factor(Time_period, n_mini_batch, train_cifar100_100_way_split,test_cifar100_100_way_split,N_try,ema_global_error=\"diff\",coef_global_error=alpha)\n",
        "    metric=accuracy_c100_100w.mean()#-accuracy_c100_100w.std()\n",
        "    print(cum_sum.mean())\n",
        "    print(metric,len(sonn.Address))#, sonn.test(testloader))"
      ]
    },
    {
      "cell_type": "code",
      "source": [
        ""
      ],
      "metadata": {
        "id": "ttz9sj5vFIzR"
      },
      "execution_count": null,
      "outputs": []
    }
  ]
}